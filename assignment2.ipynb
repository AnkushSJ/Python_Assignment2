{
 "cells": [
  {
   "cell_type": "code",
   "execution_count": 1,
   "id": "0cbfc90b-bb0e-4d0c-a492-a99cf1ab9a39",
   "metadata": {},
   "outputs": [],
   "source": [
    "#1#\n",
    "a=\"'\""
   ]
  },
  {
   "cell_type": "code",
   "execution_count": 2,
   "id": "6cd9c988-e936-4bc9-85ab-fd7c33e996fa",
   "metadata": {},
   "outputs": [
    {
     "data": {
      "text/plain": [
       "\"'\""
      ]
     },
     "execution_count": 2,
     "metadata": {},
     "output_type": "execute_result"
    }
   ],
   "source": [
    "a"
   ]
  },
  {
   "cell_type": "code",
   "execution_count": 3,
   "id": "b2938867-f771-4bc3-85b7-602e1ca2bc37",
   "metadata": {},
   "outputs": [],
   "source": [
    "#2#\n",
    "x='a'"
   ]
  },
  {
   "cell_type": "code",
   "execution_count": 4,
   "id": "ae460b47-9fa8-4353-a23a-4b0348e61947",
   "metadata": {},
   "outputs": [
    {
     "data": {
      "text/plain": [
       "str"
      ]
     },
     "execution_count": 4,
     "metadata": {},
     "output_type": "execute_result"
    }
   ],
   "source": [
    "type(x)"
   ]
  },
  {
   "cell_type": "code",
   "execution_count": 12,
   "id": "46bc8558-fc41-4820-a497-92494e19ea82",
   "metadata": {},
   "outputs": [],
   "source": [
    "#3#\n",
    "l='Welcome to Python foundat1on course'"
   ]
  },
  {
   "cell_type": "code",
   "execution_count": 15,
   "id": "6e80162b-5b81-4dc0-9cd4-560c4a141c15",
   "metadata": {},
   "outputs": [
    {
     "data": {
      "text/plain": [
       "'Welcome to Python foundat1on course'"
      ]
     },
     "execution_count": 15,
     "metadata": {},
     "output_type": "execute_result"
    }
   ],
   "source": [
    "l"
   ]
  },
  {
   "cell_type": "code",
   "execution_count": 16,
   "id": "b149015e-a533-493d-8412-a0c9d266d8d3",
   "metadata": {},
   "outputs": [
    {
     "data": {
      "text/plain": [
       "20"
      ]
     },
     "execution_count": 16,
     "metadata": {},
     "output_type": "execute_result"
    }
   ],
   "source": [
    "l.find('u')"
   ]
  },
  {
   "cell_type": "code",
   "execution_count": 17,
   "id": "960893c9-10a4-46e8-b303-bec99cf0be40",
   "metadata": {},
   "outputs": [
    {
     "data": {
      "text/plain": [
       "2"
      ]
     },
     "execution_count": 17,
     "metadata": {},
     "output_type": "execute_result"
    }
   ],
   "source": [
    "l.count('u')"
   ]
  },
  {
   "cell_type": "code",
   "execution_count": 18,
   "id": "3453263c-7b40-49e7-9701-6cdc93fb3047",
   "metadata": {},
   "outputs": [
    {
     "data": {
      "text/plain": [
       "35"
      ]
     },
     "execution_count": 18,
     "metadata": {},
     "output_type": "execute_result"
    }
   ],
   "source": [
    "len(l)"
   ]
  },
  {
   "cell_type": "code",
   "execution_count": 28,
   "id": "a54531ef-c75b-4718-a465-e4738463ce5a",
   "metadata": {},
   "outputs": [],
   "source": [
    "#4#\n",
    "s=\"PanaJi@12256\""
   ]
  },
  {
   "cell_type": "code",
   "execution_count": 29,
   "id": "c2922695-4cbf-4f42-afbe-d045e44440b9",
   "metadata": {},
   "outputs": [
    {
     "data": {
      "text/plain": [
       "'PanaJi@12256'"
      ]
     },
     "execution_count": 29,
     "metadata": {},
     "output_type": "execute_result"
    }
   ],
   "source": [
    "s"
   ]
  },
  {
   "cell_type": "code",
   "execution_count": 50,
   "id": "229f5ae7-492a-499a-8d45-b71d3ccc0219",
   "metadata": {},
   "outputs": [],
   "source": [
    "#5#\n",
    "b=7"
   ]
  },
  {
   "cell_type": "code",
   "execution_count": 51,
   "id": "e432bbbd-4403-41c8-ad09-5ed906990121",
   "metadata": {},
   "outputs": [
    {
     "data": {
      "text/plain": [
       "7"
      ]
     },
     "execution_count": 51,
     "metadata": {},
     "output_type": "execute_result"
    }
   ],
   "source": [
    "b"
   ]
  },
  {
   "cell_type": "code",
   "execution_count": 65,
   "id": "e3047b84-3866-4c16-bc1c-a878bc264397",
   "metadata": {},
   "outputs": [],
   "source": [
    "a=str(b)"
   ]
  },
  {
   "cell_type": "code",
   "execution_count": 66,
   "id": "bbc80b14-f6c2-462b-80da-a7d5c6292236",
   "metadata": {},
   "outputs": [
    {
     "data": {
      "text/plain": [
       "str"
      ]
     },
     "execution_count": 66,
     "metadata": {},
     "output_type": "execute_result"
    }
   ],
   "source": [
    "type(a)"
   ]
  },
  {
   "cell_type": "code",
   "execution_count": 67,
   "id": "c358bece-f0f9-405c-bc62-c2b76de59542",
   "metadata": {},
   "outputs": [
    {
     "data": {
      "text/plain": [
       "'7'"
      ]
     },
     "execution_count": 67,
     "metadata": {},
     "output_type": "execute_result"
    }
   ],
   "source": [
    "a"
   ]
  },
  {
   "cell_type": "code",
   "execution_count": 68,
   "id": "b39695e5-160d-41e3-8a71-ac830e923474",
   "metadata": {},
   "outputs": [
    {
     "data": {
      "text/plain": [
       "int"
      ]
     },
     "execution_count": 68,
     "metadata": {},
     "output_type": "execute_result"
    }
   ],
   "source": [
    "type(b)"
   ]
  },
  {
   "cell_type": "code",
   "execution_count": null,
   "id": "0bb05ebe-e1e3-4c57-ba37-aa1ed8f87779",
   "metadata": {},
   "outputs": [],
   "source": []
  }
 ],
 "metadata": {
  "kernelspec": {
   "display_name": "Python 3 (ipykernel)",
   "language": "python",
   "name": "python3"
  },
  "language_info": {
   "codemirror_mode": {
    "name": "ipython",
    "version": 3
   },
   "file_extension": ".py",
   "mimetype": "text/x-python",
   "name": "python",
   "nbconvert_exporter": "python",
   "pygments_lexer": "ipython3",
   "version": "3.10.8"
  }
 },
 "nbformat": 4,
 "nbformat_minor": 5
}
